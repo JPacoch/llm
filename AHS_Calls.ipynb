{
 "cells": [
  {
   "cell_type": "code",
   "execution_count": 5,
   "id": "14f7cf25-8df3-4015-ae33-d2dd87963944",
   "metadata": {},
   "outputs": [],
   "source": [
    "import pandas as pd\n",
    "\n",
    "# Specify the file path or URL\n",
    "file_path = 'AHS_KB/AHS95CallsFullDesc.xlsx'\n",
    "\n",
    "# Read the Excel file into a DataFrame\n",
    "call_df = pd.read_excel(file_path, engine='openpyxl')"
   ]
  },
  {
   "cell_type": "code",
   "execution_count": 6,
   "id": "b74381a8-49f2-42c4-8cfe-d5810d0fcfae",
   "metadata": {},
   "outputs": [
    {
     "data": {
      "text/html": [
       "<div>\n",
       "<style scoped>\n",
       "    .dataframe tbody tr th:only-of-type {\n",
       "        vertical-align: middle;\n",
       "    }\n",
       "\n",
       "    .dataframe tbody tr th {\n",
       "        vertical-align: top;\n",
       "    }\n",
       "\n",
       "    .dataframe thead th {\n",
       "        text-align: right;\n",
       "    }\n",
       "</style>\n",
       "<table border=\"1\" class=\"dataframe\">\n",
       "  <thead>\n",
       "    <tr style=\"text-align: right;\">\n",
       "      <th></th>\n",
       "      <th>Id</th>\n",
       "      <th>CustomerInstance</th>\n",
       "      <th>CallDate</th>\n",
       "      <th>Location</th>\n",
       "      <th>CallDuration</th>\n",
       "      <th>Transcript_with_roles</th>\n",
       "      <th>IsInbound</th>\n",
       "      <th>ProgramCode</th>\n",
       "      <th>ExtCallId</th>\n",
       "      <th>AgentName</th>\n",
       "      <th>...</th>\n",
       "      <th>SentimentClient</th>\n",
       "      <th>AgentWorkAtHome</th>\n",
       "      <th>WordCount</th>\n",
       "      <th>WordCountClient</th>\n",
       "      <th>WordCountAgent</th>\n",
       "      <th>CIProbability</th>\n",
       "      <th>APScore</th>\n",
       "      <th>APClientScore</th>\n",
       "      <th>PCAScore</th>\n",
       "      <th>Topics</th>\n",
       "    </tr>\n",
       "  </thead>\n",
       "  <tbody>\n",
       "    <tr>\n",
       "      <th>0</th>\n",
       "      <td>91234836</td>\n",
       "      <td>AHS</td>\n",
       "      <td>2023-10-21 15:21:06</td>\n",
       "      <td>Davao 02</td>\n",
       "      <td>679.68</td>\n",
       "      <td>Agent: hi thank you for calling american home ...</td>\n",
       "      <td>True</td>\n",
       "      <td>AHC.USCC.CS.IBCSDD</td>\n",
       "      <td>2713075036</td>\n",
       "      <td>ronie.celiz</td>\n",
       "      <td>...</td>\n",
       "      <td>-0.026</td>\n",
       "      <td>NaN</td>\n",
       "      <td>1755</td>\n",
       "      <td>666</td>\n",
       "      <td>1089</td>\n",
       "      <td>3</td>\n",
       "      <td>24.447</td>\n",
       "      <td>34.276</td>\n",
       "      <td>0</td>\n",
       "      <td>Account_Verification (phonemes)|Cancellation (...</td>\n",
       "    </tr>\n",
       "    <tr>\n",
       "      <th>1</th>\n",
       "      <td>92043160</td>\n",
       "      <td>AHS</td>\n",
       "      <td>2023-10-23 12:00:08</td>\n",
       "      <td>Fairview</td>\n",
       "      <td>1611.80</td>\n",
       "      <td>Client: hello\\nAgent: hi good afternoon uh goo...</td>\n",
       "      <td>False</td>\n",
       "      <td>AHC.USCC.CS.IBCSDD</td>\n",
       "      <td>2713674088</td>\n",
       "      <td>marryann.juanillo</td>\n",
       "      <td>...</td>\n",
       "      <td>-0.998</td>\n",
       "      <td>1.0</td>\n",
       "      <td>4965</td>\n",
       "      <td>3258</td>\n",
       "      <td>1707</td>\n",
       "      <td>10</td>\n",
       "      <td>23.477</td>\n",
       "      <td>17.703</td>\n",
       "      <td>0</td>\n",
       "      <td>Account_Verification (phonemes)|Cancellation (...</td>\n",
       "    </tr>\n",
       "    <tr>\n",
       "      <th>2</th>\n",
       "      <td>93232784</td>\n",
       "      <td>AHS</td>\n",
       "      <td>2023-10-25 18:13:18</td>\n",
       "      <td>Dasmarinas 02</td>\n",
       "      <td>749.78</td>\n",
       "      <td>Agent: \\nhi good day this is ann from american...</td>\n",
       "      <td>True</td>\n",
       "      <td>AHC.USCC.CS.IBCSDD</td>\n",
       "      <td>2715035550</td>\n",
       "      <td>jennylyn.cerro</td>\n",
       "      <td>...</td>\n",
       "      <td>0.396</td>\n",
       "      <td>NaN</td>\n",
       "      <td>1805</td>\n",
       "      <td>683</td>\n",
       "      <td>1122</td>\n",
       "      <td>4</td>\n",
       "      <td>26.261</td>\n",
       "      <td>34.165</td>\n",
       "      <td>0</td>\n",
       "      <td>Account_Verification (phonemes)|Callback (phon...</td>\n",
       "    </tr>\n",
       "    <tr>\n",
       "      <th>3</th>\n",
       "      <td>91985634</td>\n",
       "      <td>AHS</td>\n",
       "      <td>2023-10-23 10:04:18</td>\n",
       "      <td>Dasmarinas 02</td>\n",
       "      <td>1037.34</td>\n",
       "      <td>Client: &lt;unk&gt; that's h. vac\\nAgent: um hi good...</td>\n",
       "      <td>False</td>\n",
       "      <td>AHC.USCC.CS.IBCSDD</td>\n",
       "      <td>2713616978</td>\n",
       "      <td>jeanneiara.vedar2</td>\n",
       "      <td>...</td>\n",
       "      <td>-0.762</td>\n",
       "      <td>0.0</td>\n",
       "      <td>2957</td>\n",
       "      <td>1187</td>\n",
       "      <td>1770</td>\n",
       "      <td>20</td>\n",
       "      <td>27.951</td>\n",
       "      <td>25.951</td>\n",
       "      <td>0</td>\n",
       "      <td>Account_Verification (phonemes)|Cancellation (...</td>\n",
       "    </tr>\n",
       "    <tr>\n",
       "      <th>4</th>\n",
       "      <td>93234481</td>\n",
       "      <td>AHS</td>\n",
       "      <td>2023-10-25 18:32:08</td>\n",
       "      <td>Fairview</td>\n",
       "      <td>1078.52</td>\n",
       "      <td>Agent: hi this is the problem escalation may k...</td>\n",
       "      <td>False</td>\n",
       "      <td>AHC.USCC.CS.IBCSDD</td>\n",
       "      <td>2715037225</td>\n",
       "      <td>gilbert.afable</td>\n",
       "      <td>...</td>\n",
       "      <td>-0.014</td>\n",
       "      <td>NaN</td>\n",
       "      <td>2596</td>\n",
       "      <td>1454</td>\n",
       "      <td>1142</td>\n",
       "      <td>4</td>\n",
       "      <td>24.722</td>\n",
       "      <td>23.372</td>\n",
       "      <td>0</td>\n",
       "      <td>Account_Verification (phonemes)|Callback (phon...</td>\n",
       "    </tr>\n",
       "  </tbody>\n",
       "</table>\n",
       "<p>5 rows × 24 columns</p>\n",
       "</div>"
      ],
      "text/plain": [
       "         Id CustomerInstance             CallDate       Location  \\\n",
       "0  91234836              AHS  2023-10-21 15:21:06       Davao 02   \n",
       "1  92043160              AHS  2023-10-23 12:00:08       Fairview   \n",
       "2  93232784              AHS  2023-10-25 18:13:18  Dasmarinas 02   \n",
       "3  91985634              AHS  2023-10-23 10:04:18  Dasmarinas 02   \n",
       "4  93234481              AHS  2023-10-25 18:32:08       Fairview   \n",
       "\n",
       "   CallDuration                              Transcript_with_roles  IsInbound  \\\n",
       "0        679.68  Agent: hi thank you for calling american home ...       True   \n",
       "1       1611.80  Client: hello\\nAgent: hi good afternoon uh goo...      False   \n",
       "2        749.78  Agent: \\nhi good day this is ann from american...       True   \n",
       "3       1037.34  Client: <unk> that's h. vac\\nAgent: um hi good...      False   \n",
       "4       1078.52  Agent: hi this is the problem escalation may k...      False   \n",
       "\n",
       "          ProgramCode   ExtCallId          AgentName  ... SentimentClient  \\\n",
       "0  AHC.USCC.CS.IBCSDD  2713075036        ronie.celiz  ...          -0.026   \n",
       "1  AHC.USCC.CS.IBCSDD  2713674088  marryann.juanillo  ...          -0.998   \n",
       "2  AHC.USCC.CS.IBCSDD  2715035550     jennylyn.cerro  ...           0.396   \n",
       "3  AHC.USCC.CS.IBCSDD  2713616978  jeanneiara.vedar2  ...          -0.762   \n",
       "4  AHC.USCC.CS.IBCSDD  2715037225     gilbert.afable  ...          -0.014   \n",
       "\n",
       "  AgentWorkAtHome  WordCount  WordCountClient  WordCountAgent  CIProbability  \\\n",
       "0             NaN       1755              666            1089              3   \n",
       "1             1.0       4965             3258            1707             10   \n",
       "2             NaN       1805              683            1122              4   \n",
       "3             0.0       2957             1187            1770             20   \n",
       "4             NaN       2596             1454            1142              4   \n",
       "\n",
       "   APScore  APClientScore  PCAScore  \\\n",
       "0   24.447         34.276         0   \n",
       "1   23.477         17.703         0   \n",
       "2   26.261         34.165         0   \n",
       "3   27.951         25.951         0   \n",
       "4   24.722         23.372         0   \n",
       "\n",
       "                                              Topics  \n",
       "0  Account_Verification (phonemes)|Cancellation (...  \n",
       "1  Account_Verification (phonemes)|Cancellation (...  \n",
       "2  Account_Verification (phonemes)|Callback (phon...  \n",
       "3  Account_Verification (phonemes)|Cancellation (...  \n",
       "4  Account_Verification (phonemes)|Callback (phon...  \n",
       "\n",
       "[5 rows x 24 columns]"
      ]
     },
     "execution_count": 6,
     "metadata": {},
     "output_type": "execute_result"
    }
   ],
   "source": [
    "call_df.head(n=5)"
   ]
  },
  {
   "cell_type": "code",
   "execution_count": 33,
   "id": "7149d090-7c71-4bfb-9ef8-c9b6e5f64219",
   "metadata": {},
   "outputs": [],
   "source": [
    "# call_df[\"Transcript_with_roles\"][0]"
   ]
  },
  {
   "cell_type": "code",
   "execution_count": 28,
   "id": "55ad92ae-8407-4b37-9212-11742a291841",
   "metadata": {},
   "outputs": [],
   "source": [
    "query_string = (\n",
    "    \"Call ID: \" + str(call_df[\"Id\"][0])\n",
    "    + \"\\n\" + \"CallDate: \" + str(call_df[\"CallDate\"][0])\n",
    "    + \"\\n\" + \"Location: \" + str(call_df[\"Location\"][0])\n",
    "    + \"\\n\" + \"CallDuration: \" + str(call_df[\"CallDuration\"][0]) + \" sec.\"\n",
    "    + \"\\n\" + \"Transcript_with_roles: \\n\" + str(call_df[\"Transcript_with_roles\"][0])\n",
    "    + \"\\n\\n\" + \"Summarize the call\"\n",
    ")"
   ]
  },
  {
   "cell_type": "code",
   "execution_count": 34,
   "id": "7d139ebb-fb26-487e-8899-599ecda38783",
   "metadata": {},
   "outputs": [],
   "source": [
    "# query_string"
   ]
  },
  {
   "cell_type": "code",
   "execution_count": 30,
   "id": "6dd321ae-3e92-4f1d-812c-ccba4b1c358c",
   "metadata": {},
   "outputs": [
    {
     "name": "stdout",
     "output_type": "stream",
     "text": [
      "Loaded as API: http://172.20.11.71:7860/ ✔\n"
     ]
    }
   ],
   "source": [
    "from gradio_client import Client\n",
    "import ast\n",
    "HOST_URL = \"http://172.20.11.71:7860\"\n",
    "client = Client(HOST_URL)"
   ]
  },
  {
   "cell_type": "code",
   "execution_count": 31,
   "id": "4e3267f3-b2ac-4fb3-9141-82c3e66b6254",
   "metadata": {},
   "outputs": [
    {
     "name": "stdout",
     "output_type": "stream",
     "text": [
      "CPU times: total: 15.6 ms\n",
      "Wall time: 8.39 s\n"
     ]
    }
   ],
   "source": [
    "%%time\n",
    "kwargs = dict(instruction_nochat=query_string, \n",
    "        langchain_mode='LLM', \n",
    "        stream_output=False,\n",
    "        max_time=120, \n",
    "        langchain_action = \"Query\",\n",
    "        max_new_tokens=1024, \n",
    "        do_sample=False,\n",
    "        document_subset='Relevant',\n",
    "        document_choice='All',\n",
    "        top_k_docs=4)\n",
    "res = client.predict(str(dict(kwargs)), api_name='/submit_nochat_api')"
   ]
  },
  {
   "cell_type": "code",
   "execution_count": 32,
   "id": "243e3ba6-887a-480a-9305-88876f822a11",
   "metadata": {},
   "outputs": [
    {
     "name": "stdout",
     "output_type": "stream",
     "text": [
      "The caller, Linda, called American Home Shield to inquire about the status of her air conditioning repair. The agent, Ryan, confirmed that a technician had submitted a report on October 13rd but the authorization department was still pending due to lack of information. Linda explained that she had been without air conditioning for three weeks and wanted to know what the problem was and when it would be fixed. Ryan apologized and explained that their department was waiting for the technician to provide more information before making a decision. Linda asked for a call back and provided her phone number. Ryan asked her to hold while he followed up with the technician and provided documentation regarding the work order.\n"
     ]
    }
   ],
   "source": [
    "response = ast.literal_eval(res)['response']\n",
    "print(response)"
   ]
  },
  {
   "cell_type": "code",
   "execution_count": 56,
   "id": "98dd8574-05ca-4011-b7e1-9b44570a5e7b",
   "metadata": {},
   "outputs": [],
   "source": [
    "call_df[\"summary\"] = \"\""
   ]
  },
  {
   "cell_type": "code",
   "execution_count": 57,
   "id": "358a4bcf-bbe5-4c55-ac4c-0d26374a92bd",
   "metadata": {},
   "outputs": [
    {
     "name": "stdout",
     "output_type": "stream",
     "text": [
      "0\n",
      "--- 9.047047853469849 seconds ---\n",
      "The caller, Linda, is frustrated with the lack of communication and updates from American Home Shield regarding her air conditioning issue. She has been waiting for over a week for a response and wants to know the status of her work order. The agent, Ron, tries to provide her with information but is unable to email her the diagnosis as his resources are limited. He offers to follow up with the technician and provide her with more information once the work order is fully authorized by the authorization department. Linda is unhappy with the service and requests to speak with a supervisor. Ron apologizes and tells her that he will put the call on hold while he tries to get in touch with the contractor to follow up on the work order.\n",
      "1\n"
     ]
    },
    {
     "name": "stderr",
     "output_type": "stream",
     "text": [
      "<timed exec>:31: SettingWithCopyWarning: \n",
      "A value is trying to be set on a copy of a slice from a DataFrame\n",
      "\n",
      "See the caveats in the documentation: https://pandas.pydata.org/pandas-docs/stable/user_guide/indexing.html#returning-a-view-versus-a-copy\n"
     ]
    },
    {
     "name": "stdout",
     "output_type": "stream",
     "text": [
      "--- 16.83613872528076 seconds ---\n",
      "The caller is unhappy with the service provided by American Home Shield and the representative on the phone. They had a contractor come to their house and break their refrigerator, and the representative is unwilling to help them with a replacement. The caller has been paying for three years and has never used the warranty, and they are demanding to speak to someone higher up in the company. The representative keeps interrupting and not listening to the caller, and the caller becomes increasingly frustrated and angry. The representative offers to transfer the call to someone higher up, but the caller refuses and demands to cancel their service and remove their credit card from their account. The representative apologizes and agrees to cancel the service, but the caller continues to be upset and demands to speak to someone in the United States. The representative tells the caller that they cannot transfer the call and offers to process the cancellation. The caller uses a racial slur and the representative responds politely and apologizes again.\n",
      "2\n",
      "--- 7.520219802856445 seconds ---\n",
      "The caller, Austin Philips, has been trying to resolve an issue with his air conditioning unit for four months. He has spoken to multiple representatives and has been told that the part is on backorder and will take 20-30 days to arrive. He wants to speak with a supervisor to resolve the issue today. The representative, Jen, checks the system and finds that the part has been requested again and is being reordered. She offers to transfer Austin to the escalation department. Austin confirms his name and account information and the representative hangs up.\n",
      "3\n",
      "--- 12.882184505462646 seconds ---\n",
      "The caller, Mario, is upset about the high cost of his home warranty and the fact that his air conditioning system is not being covered. He has been a customer for over five years and feels that he is not getting the value for his money. He wants a second opinion on the diagnosis of the technician and is requesting a discount on his renewal policy. The agent, Gene, tries to explain the limitations and exclusions of the policy and offers a hundred dollar compensation for the inconvenience. Mario is not satisfied and threatens to cancel all of his contracts with American Home Shield unless they can fix his air conditioning system. Gene listens and apologizes, offering to give him the highest coverage possible and to send a supervisor to assess the situation. Mario agrees to give them another chance and Gene offers to upgrade the discount to $150.\n",
      "4\n",
      "--- 14.306537389755249 seconds ---\n",
      "The caller, Mr. Silverman, is upset about the service provided by American Home Shield. He had to go to an outside contractor to get his air conditioner replaced because the original contractor could not fix it. He was told that the air conditioner was beyond repair and needed to be replaced, but he was only covered for $20000 of the $87000 cost. He wants to know why he has to pay the remaining amount. The agent, Gilbert, explains that the limit for covered items is $20000, and if the entire unit needs to be replaced, he will need to pay the remaining amount. Mr. Silverman asks to speak with a supervisor, but the agent explains that they are not allowed to transfer the call to a supervisor and suggests creating a research ticket instead. The agent offers to create a research ticket for Mr. Silverman and tells him that someone will call him within 24 hours to follow up on his request. Mr. Silverman agrees and thanks the agent for his time before hanging up.\n",
      "5\n",
      "--- 10.409849882125854 seconds ---\n",
      "The caller, Darleen, is trying to cancel her American Home Shield contract due to issues with their service. She has been a customer for 9 years and has had multiple problems with technicians not showing up or not fixing the issue. She wants to cancel her contract and is willing to pay a cancellation fee of $1000 and 36 cents. The agent, Victor, explains that the cancellation fee is $153.30 and that it is a valid charge according to the contract. Darleen is unhappy with this and requests to speak to a supervisor. The agent informs her that there is no available supervisor and that she will receive a bill for the cancellation fee. Darleen threatens to take it to a lawyer and the agent informs her that there is nothing they can do to waive the fee.\n",
      "6\n",
      "--- 14.654798030853271 seconds ---\n",
      "The caller, Brian, is unhappy with the service he received from American Home Shield. He has had multiple issues with his appliances, including a faulty air conditioning system, a refrigerator that was replaced multiple times, and a microwave that was never fixed. He has spent a lot of money on repairs and is requesting a refund. The agent offers a $125 discount on his renewal and promises to investigate the issues and improve the service. Brian agrees to renew his contract but wants to discuss it with his wife first. The agent provides him with the number for the service department and tells him that he will send a form for the reimbursement of the service fee for the microwave. Brian asks how he can get the reimbursement and the agent explains that it will be reversed and a form will be submitted for the reimbursement. The call ends with the agent thanking Brian and wishing him a good day.\n",
      "7\n",
      "--- 8.809460401535034 seconds ---\n",
      "The caller, Cherry and Doors Miller, are having issues with their heating and air conditioning system. They have called twice before and the previous technician, Kevin, fixed the problem, but it continues to blow cold air. They are being told that they need to place a new service request and pay a $1000 fee. The technician, Pink Fuchsia, will come to their property to fix the issue. The caller is confused about the accent of the agent and asks to speak with someone in the United States. The agent tries to clarify and offers to assist them. The caller provides their address and phone number for the service request. The agent thanks them and ends the call.\n",
      "8\n",
      "--- 14.161587476730347 seconds ---\n",
      "The caller, Mr. Morales, is upset about the denial of his service request for his refrigerator repair. He believes that the technician who came to his house misinformed him about the location of the refrigerator and that it is not exposed to the elements. He wants to speak to a supervisor to resolve the issue. The agent, Ali, explains that the denial is based on the contract terms and that the refrigerator is not covered for outside use. Mr. Morales disagrees and provides documentation to support his case. Ali checks the contract and confirms that it does not mention anything about outside appliances being covered. Mr. Morales asks for a second opinion, and Ali explains that this will incur additional charges. Mr. Morales is unhappy with the response and requests to speak to someone else. Ali offers to process the call back request within 24 hours and thanks him for calling American Home Shield.\n",
      "9\n",
      "--- 7.839603900909424 seconds ---\n",
      "The caller requested service for their air conditioning unit, stating that it stopped working on August 5th and they were charged $1008 for the service. The agent explained that American Home Shield only provides repairs or replacements for malfunctioning systems, not routine maintenance, and that the $108 charge was for a system check. The caller was upset and argued that they had been paying for maintenance for 18 years and had never received any issues. The agent apologized and explained the policy, and the caller hung up.\n",
      "10\n",
      "--- 15.233832359313965 seconds ---\n",
      "The caller, Diane, called American Home Shield to schedule a maintenance for her refrigerator ice maker. The agent, Mel, confirmed that they do not cover maintenance for that item and offered to process a work order for $1000. Diane provided her contract number, which is 614108, and her phone number, 43756271. The agent also informed her that they will send her an email with the covered and not covered items in the tune-up. Diane accepted the agreement and the agent used her phone number to place the work order in queue. The work order number is 2805705. The agent also verified that Diane does not need to speak to anyone else and that American Home Shield will provide the best service and information as their valued customer. Diane expressed her satisfaction with the call and the agent asked her to participate in a quick survey to rate her experience.\n",
      "11\n",
      "--- 16.92896556854248 seconds ---\n",
      "The customer called American Home Shield to report that they haven't received their washer and dishwasher repairs after two weeks, despite being told they would be scheduled for the next day. They were transferred to Godfrey, who apologized for the delay and explained that the parts were ordered but hadn't arrived yet. The customer was disappointed and asked to wait another week for the technician to come out. Godfrey checked the system and found that the parts were ordered and the estimated arrival date was June 16th. The customer was told to wait until then for the appointment. The customer expressed frustration and disappointment with the long wait and asked to speak to a supervisor. Godfrey explained that they couldn't give out their supervisor's name and that the customer would be contacted back once the request is received. The customer asked how long it would take for a callback and Godfrey said they would be contacted in order it is received. The customer hung up.> \n",
      "12\n",
      "--- 9.672781467437744 seconds ---\n",
      "The caller, Virginia, is frustrated with the service she received from the appliance repair company. She has been without a working refrigerator for over two months and has had multiple technicians come out to fix the issue, but the problem persists. She wants to speak with a supervisor to get a resolution to the issue. The technician just recently submitted a report stating that the compressor needs to be replaced, but she feels that the company is charging her for services that were not provided. The caller is unhappy with the communication and lack of progress in fixing the issue.\n",
      "\n",
      "Note: The transcript may contain errors or omissions, and the language used may not be appropriate for all audiences.\n",
      "13\n",
      "--- 10.726879358291626 seconds ---\n",
      "The caller, Margarita, is disputing the diagnosis of her refrigerator provided by the previous technician. She believes that the technician lied about the issue and that the board of the refrigerator is not working. The agent tries to explain the process of getting a second opinion and provides the necessary information for the new technician to come and assess the issue. Margarita is hesitant to pay the $175 service fee for the second opinion but the agent explains that there is no charge if they decide to proceed with the second opinion. The agent also offers to send an email to the new technician with the necessary information and asks Margarita to keep her lines open for a text message or email notification of the appointment schedule. Margarita thanks the agent and hangs up the call.\n",
      "14\n",
      "--- 7.317568302154541 seconds ---\n",
      "The caller is upset about the denial of their claim for an air conditioning repair due to secondary damage caused by the sprinkler system. They have been paying for the service for 25 years and want to get a new unit installed. The agent tries to explain that the damage is not covered under the warranty, but the caller insists that it is and threatens to call their representative. The agent offers to call the contractor for confirmation and the caller hangs up.\n",
      "15\n",
      "--- 11.334981918334961 seconds ---\n",
      "The customer, Mrs. Johnson, called American Home Shield to request assistance with a refrigerator repair that has been delayed due to a missing part. She was told by a previous representative that the part was no longer available and she needed to call the authorization department for another option. Cathy from the escalation department picked up the call and verified the contract details. Cathy explained that the part was indeed no longer available and offered two options: replacement or cash out. Mrs. Johnson chose replacement and Cathy assured her that she would receive an email with more information. Mrs. Johnson asked if there was any way to speed up the process, and Cathy explained that she would need to wait for the email with the recommendation before proceeding. Cathy also offered to send a check for the cost of the refrigerator once she received the proof of purchase. Mrs. Johnson agreed to wait for the email and thanked Cathy for her help.\n",
      "16\n",
      "--- 9.584293842315674 seconds ---\n",
      "The customer, Kimberly, is calling to request a new service request for heating and air conditioning as their current service provider has not shown up for the past four times and has cancelled the calls twice, despite being promised to come out. She has been waiting on hold for a long time and wants to know if there is a 24-hour service company that the company can use. The agent explains that the concern has been escalated to a supervisor and will be called back on Monday or Tuesday, but the customer is unhappy with the delay and wants to contact corporate. The agent apologizes and explains that the process is tied and they cannot take action without a confirmation from the supervisor. The customer expresses frustration and says they will contact corporate directly.\n",
      "17\n",
      "--- 11.567836046218872 seconds ---\n",
      "The caller, Carol, is upset about the service provided by American Home Shield. She had to go through multiple representatives to get her refrigerator issue resolved and was transferred multiple times. She was told that the compressor is under manufacturer's warranty and she needs to contact the manufacturer directly. The representative Mark tried to help her by providing a second opinion, but she was not satisfied with the response. She requested the information needed to contact the manufacturer and wanted to expedite the process. Mark provided his email address to send the necessary documents and confirmed the email on record. The call ended with Carol thanking Mark for his time and appreciating his courtesy.\n",
      "18\n",
      "--- 10.368969202041626 seconds ---\n",
      "The caller, Laurie, is experiencing a frustrating issue with her refrigerator that has been going on for six months. She has called American Home Shield multiple times and has been given incorrect information each time. The technician installed the wrong part and the refrigerator still does not work. She wants a new vendor to fix the issue and is tired of the constant delays and incorrect information. The agent listens to her concerns and promises to clarify the situation with the vendor and provide an update the next day.> \n",
      "19\n",
      "--- 8.436312198638916 seconds ---\n",
      "The client, Sylvia, called American Home Shield to inquire about the status of a service request for her refrigerator. She was told that the previous technician was unable to repair it and it was escalated to a supervisor. The supervisor will call her back tomorrow for an update. The client is frustrated with the long wait and wants a solution by tomorrow. The agent apologized for the delay and assured her that it is being documented and the supervisor will call her back. The client left her direct number for the supervisor to reach her if they cannot contact her directly.\n",
      "CPU times: total: 125 ms\n",
      "Wall time: 3min 47s\n"
     ]
    }
   ],
   "source": [
    "%%time\n",
    "\n",
    "import time\n",
    "\n",
    "for i in range(20):\n",
    "    print (i)\n",
    "    query_string = (\n",
    "    \"Call ID: \" + str(call_df[\"Id\"][i])\n",
    "    + \"\\n\" + \"CallDate: \" + str(call_df[\"CallDate\"][i])\n",
    "    + \"\\n\" + \"Location: \" + str(call_df[\"Location\"][i])\n",
    "    + \"\\n\" + \"CallDuration: \" + str(call_df[\"CallDuration\"][i]) + \" sec.\"\n",
    "    + \"\\n\" + \"Transcript_with_roles: \\n\" + str(call_df[\"Transcript_with_roles\"][i])\n",
    "    + \"\\n\\n\" + \"Summarize the call\")\n",
    "    \n",
    "    kwargs = dict(instruction_nochat=query_string, \n",
    "        langchain_mode='LLM', \n",
    "        stream_output=False,\n",
    "        max_time=120, \n",
    "        langchain_action = \"Query\",\n",
    "        max_new_tokens=1024, \n",
    "        do_sample=False,\n",
    "        document_subset='Relevant',\n",
    "        document_choice='All',\n",
    "        top_k_docs=4)\n",
    "    \n",
    "    start_time = time.time()\n",
    "    res = client.predict(str(dict(kwargs)), api_name='/submit_nochat_api')\n",
    "    print(\"--- %s seconds ---\" % (time.time() - start_time))\n",
    "    \n",
    "    response = ast.literal_eval(res)['response']\n",
    "    print(response)\n",
    "    \n",
    "    call_df[\"summary\"][i] = response"
   ]
  },
  {
   "cell_type": "code",
   "execution_count": 162,
   "id": "ad734a48-fc2e-4046-b1c8-da53287faba8",
   "metadata": {},
   "outputs": [
    {
     "name": "stdout",
     "output_type": "stream",
     "text": [
      "0\n",
      "1\n",
      "2\n",
      "3\n",
      "4\n",
      "5\n",
      "6\n",
      "7\n",
      "8\n",
      "9\n",
      "10\n",
      "11\n",
      "12\n",
      "13\n",
      "14\n"
     ]
    }
   ],
   "source": [
    "## %%time \n",
    "query_string =\"\"\n",
    "\n",
    "for i in range(15):\n",
    "    print (i)\n",
    "    query_string += (\n",
    "    \"Call ID: \" + str(call_df[\"Id\"][i])\n",
    "    + \"\\n\" + \"CallDate: \" + str(call_df[\"CallDate\"][i])\n",
    "    + \"\\n\" + \"Location: \" + str(call_df[\"Location\"][i])\n",
    "    + \"\\n\" + \"CallDuration: \" + str(call_df[\"CallDuration\"][i]) + \" sec.\"\n",
    "    + \"\\n\" + \"summary: \\n\" + str(call_df[\"summary\"][i])\n",
    "    +\"\\n\\n\"\n",
    "    )"
   ]
  },
  {
   "cell_type": "code",
   "execution_count": 163,
   "id": "7dde5dfc-4b76-458a-84f2-46a4aad40a1b",
   "metadata": {},
   "outputs": [],
   "source": [
    "query_string += \"\\n\\n\" + \"Summarize all calls by Location in details. What problems are metioned?\""
   ]
  },
  {
   "cell_type": "code",
   "execution_count": 164,
   "id": "36477f4e-5ef7-48f1-a685-9a865b78697a",
   "metadata": {},
   "outputs": [
    {
     "data": {
      "text/plain": [
       "13450"
      ]
     },
     "execution_count": 164,
     "metadata": {},
     "output_type": "execute_result"
    }
   ],
   "source": [
    "len(query_string)"
   ]
  },
  {
   "cell_type": "code",
   "execution_count": 165,
   "id": "1270eee1-3c43-48e7-91c7-05a78629338e",
   "metadata": {},
   "outputs": [
    {
     "data": {
      "text/plain": [
       "2230"
      ]
     },
     "execution_count": 165,
     "metadata": {},
     "output_type": "execute_result"
    }
   ],
   "source": [
    "len(query_string.split())"
   ]
  },
  {
   "cell_type": "code",
   "execution_count": 166,
   "id": "e9cb32b9-041d-4a8d-9394-8139e2b2d1e3",
   "metadata": {},
   "outputs": [],
   "source": [
    "#query_string"
   ]
  },
  {
   "cell_type": "code",
   "execution_count": 167,
   "id": "57c547b5-81fa-4801-bba7-d86a8bcf049d",
   "metadata": {},
   "outputs": [
    {
     "name": "stdout",
     "output_type": "stream",
     "text": [
      "CPU times: total: 31.2 ms\n",
      "Wall time: 14.9 s\n"
     ]
    }
   ],
   "source": [
    "%%time\n",
    "kwargs = dict(instruction_nochat=query_string, \n",
    "        langchain_mode='LLM', \n",
    "        stream_output=False,\n",
    "        max_time=120, \n",
    "        langchain_action = \"Query\",\n",
    "        max_new_tokens=2048, \n",
    "        do_sample=False,\n",
    "        document_subset='Relevant',\n",
    "        document_choice='All',\n",
    "        top_k_docs=10)\n",
    "res = client.predict(str(dict(kwargs)), api_name='/submit_nochat_api')"
   ]
  },
  {
   "cell_type": "code",
   "execution_count": 168,
   "id": "ad919c6e-2e30-4647-a1ca-7b46e911db6d",
   "metadata": {},
   "outputs": [
    {
     "name": "stdout",
     "output_type": "stream",
     "text": [
      "\n",
      "Davao 02 - Caller is frustrated with the lack of communication and updates from American Home Shield regarding their air conditioning issue.\n",
      "Fairview - Callers are unhappy with the service provided by American Home Shield and the representative on the phone.\n",
      "Dasmarinas 02 - Callers are requesting a second opinion on the diagnosis of the technician and are unhappy with the cost of the service.\n",
      "Clark 05 - Caller is trying to cancel her American Home Shield contract due to issues with their service.\n",
      "\n",
      "Problems mentioned in the calls include:\n",
      "\n",
      "* Lack of communication and updates from American Home Shield\n",
      "* Poor service provided by the representative on the phone\n",
      "* Technician not providing accurate diagnosis\n",
      "* High cost of service\n",
      "* Denial of service request\n",
      "* Technician not covering all appliances\n",
      "* Long wait for repairs\n",
      "* Inconsistent communication from the company\n",
      "* Unhappy with the resolution provided\n",
      "* Requesting a second opinion on the diagnosis\n",
      "* Canceling the contract due to poor service\n"
     ]
    }
   ],
   "source": [
    "response = ast.literal_eval(res)['response']\n",
    "print(response)"
   ]
  },
  {
   "cell_type": "code",
   "execution_count": null,
   "id": "ffaa2830-8ae9-4990-8b62-f1d20d528454",
   "metadata": {},
   "outputs": [],
   "source": []
  },
  {
   "cell_type": "code",
   "execution_count": null,
   "id": "f21bd57d-508c-4853-8bb3-9d0465522e89",
   "metadata": {},
   "outputs": [],
   "source": []
  }
 ],
 "metadata": {
  "kernelspec": {
   "display_name": "Python 3 (ipykernel)",
   "language": "python",
   "name": "python3"
  },
  "language_info": {
   "codemirror_mode": {
    "name": "ipython",
    "version": 3
   },
   "file_extension": ".py",
   "mimetype": "text/x-python",
   "name": "python",
   "nbconvert_exporter": "python",
   "pygments_lexer": "ipython3",
   "version": "3.8.10"
  }
 },
 "nbformat": 4,
 "nbformat_minor": 5
}
